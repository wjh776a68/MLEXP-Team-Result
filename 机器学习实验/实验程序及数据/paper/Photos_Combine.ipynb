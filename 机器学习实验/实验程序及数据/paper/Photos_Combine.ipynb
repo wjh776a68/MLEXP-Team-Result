{
  "nbformat": 4,
  "nbformat_minor": 0,
  "metadata": {
    "colab": {
      "name": "Photos-Combine.ipynb",
      "provenance": [],
      "collapsed_sections": [],
      "toc_visible": true
    },
    "kernelspec": {
      "name": "python3",
      "display_name": "Python 3"
    }
  },
  "cells": [
    {
      "cell_type": "markdown",
      "metadata": {
        "id": "NfclQozaFz4M"
      },
      "source": [
        "# Researcher: wjh776a68\r\n",
        "# Time: 2021/01/03"
      ]
    },
    {
      "cell_type": "markdown",
      "metadata": {
        "id": "1YWd-wYJMTxc"
      },
      "source": [
        "<br>\r\n",
        "<br>\r\n"
      ]
    },
    {
      "cell_type": "markdown",
      "metadata": {
        "id": "ObcoGY6wlEFe"
      },
      "source": [
        "待参考连接：https://blog.csdn.net/shenziheng1/article/details/81302663\r\n",
        "\r\n",
        "\r\n",
        "\r\n",
        "https://blog.csdn.net/weixin_41010198/article/details/88575719\r\n"
      ]
    },
    {
      "cell_type": "code",
      "metadata": {
        "colab": {
          "base_uri": "https://localhost:8080/",
          "height": 401
        },
        "id": "T2DDWzb1xRB1",
        "outputId": "27ebee8d-b1c1-414c-be6a-63bc6a99a18f"
      },
      "source": [
        "from panorama import harris_corners\r\n",
        "\r\n",
        "img1 = imread('/content/drive/MyDrive/Photos-Combine/raw/IMG_0077.JPEG', as_grey=True)\r\n",
        "img2 = imread('/content/drive/MyDrive/Photos-Combine/raw/IMG_0078.JPEG', as_grey=True)\r\n",
        "\r\n",
        "# 利用Harris角点检测算法检测两张图片中的关键点\r\n",
        "keypoints1 = corner_peaks(harris_corners(img1, window_size=3),\r\n",
        "                          threshold_rel=0.05,\r\n",
        "                          exclude_border=8)\r\n",
        "keypoints2 = corner_peaks(harris_corners(img2, window_size=3),\r\n",
        "                          threshold_rel=0.05,\r\n",
        "                          exclude_border=8)\r\n",
        "\r\n",
        "# 显示检测到的关键点\r\n",
        "plt.subplot(1,2,1)\r\n",
        "plt.imshow(img1)\r\n",
        "plt.scatter(keypoints1[:,1], keypoints1[:,0], marker='x')\r\n",
        "plt.axis('off')\r\n",
        "plt.title('Detected Keypoints for Image 1')\r\n",
        "\r\n",
        "plt.subplot(1,2,2)\r\n",
        "plt.imshow(img2)\r\n",
        "plt.scatter(keypoints2[:,1], keypoints2[:,0], marker='x')\r\n",
        "plt.axis('off')\r\n",
        "plt.title('Detected Keypoints for Image 2')\r\n",
        "plt.show()\r\n",
        "\r\n"
      ],
      "execution_count": null,
      "outputs": [
        {
          "output_type": "error",
          "ename": "ModuleNotFoundError",
          "evalue": "ignored",
          "traceback": [
            "\u001b[0;31m---------------------------------------------------------------------------\u001b[0m",
            "\u001b[0;31mModuleNotFoundError\u001b[0m                       Traceback (most recent call last)",
            "\u001b[0;32m<ipython-input-6-b0bfba974657>\u001b[0m in \u001b[0;36m<module>\u001b[0;34m()\u001b[0m\n\u001b[0;32m----> 1\u001b[0;31m \u001b[0;32mfrom\u001b[0m \u001b[0mpanorama\u001b[0m \u001b[0;32mimport\u001b[0m \u001b[0mharris_corners\u001b[0m\u001b[0;34m\u001b[0m\u001b[0;34m\u001b[0m\u001b[0m\n\u001b[0m\u001b[1;32m      2\u001b[0m \u001b[0;34m\u001b[0m\u001b[0m\n\u001b[1;32m      3\u001b[0m \u001b[0mimg1\u001b[0m \u001b[0;34m=\u001b[0m \u001b[0mimread\u001b[0m\u001b[0;34m(\u001b[0m\u001b[0;34m'/content/drive/MyDrive/Photos-Combine/raw/IMG_0077.JPEG'\u001b[0m\u001b[0;34m,\u001b[0m \u001b[0mas_grey\u001b[0m\u001b[0;34m=\u001b[0m\u001b[0;32mTrue\u001b[0m\u001b[0;34m)\u001b[0m\u001b[0;34m\u001b[0m\u001b[0;34m\u001b[0m\u001b[0m\n\u001b[1;32m      4\u001b[0m \u001b[0mimg2\u001b[0m \u001b[0;34m=\u001b[0m \u001b[0mimread\u001b[0m\u001b[0;34m(\u001b[0m\u001b[0;34m'/content/drive/MyDrive/Photos-Combine/raw/IMG_0078.JPEG'\u001b[0m\u001b[0;34m,\u001b[0m \u001b[0mas_grey\u001b[0m\u001b[0;34m=\u001b[0m\u001b[0;32mTrue\u001b[0m\u001b[0;34m)\u001b[0m\u001b[0;34m\u001b[0m\u001b[0;34m\u001b[0m\u001b[0m\n\u001b[1;32m      5\u001b[0m \u001b[0;34m\u001b[0m\u001b[0m\n",
            "\u001b[0;31mModuleNotFoundError\u001b[0m: No module named 'panorama'",
            "",
            "\u001b[0;31m---------------------------------------------------------------------------\u001b[0;32m\nNOTE: If your import is failing due to a missing package, you can\nmanually install dependencies using either !pip or !apt.\n\nTo view examples of installing some common dependencies, click the\n\"Open Examples\" button below.\n\u001b[0;31m---------------------------------------------------------------------------\u001b[0m\n"
          ]
        }
      ]
    },
    {
      "cell_type": "code",
      "metadata": {
        "id": "4hFYjGsY2RME"
      },
      "source": [
        "from panorama import simple_descriptor, match_descriptors, describe_keypoints\r\n",
        "from utils import plot_matches\r\n",
        "\r\n",
        "patch_size = 5\r\n",
        "    \r\n",
        "# 利用关键点生成描述向量(描述子)\r\n",
        "desc1 = describe_keypoints(img1, keypoints1,\r\n",
        "                           desc_func=simple_descriptor,\r\n",
        "                           patch_size=patch_size)\r\n",
        "desc2 = describe_keypoints(img2, keypoints2,\r\n",
        "                           desc_func=simple_descriptor,\r\n",
        "                           patch_size=patch_size)\r\n",
        "\r\n",
        "# 将描述子进行匹配\r\n",
        "matches = match_descriptors(desc1, desc2, 0.7)\r\n",
        "\r\n",
        "# 画出匹配的点\r\n",
        "fig, ax = plt.subplots(1, 1, figsize=(15, 12))\r\n",
        "ax.axis('off')\r\n",
        "plot_matches(ax, img1, img2, keypoints1, keypoints2, matches)\r\n",
        "plt.show()\r\n",
        "\r\n",
        "作者：傅湛\r\n",
        "链接：https://juejin.cn/post/6844904088094638094\r\n",
        "来源：掘金\r\n",
        "著作权归作者所有。商业转载请联系作者获得授权，非商业转载请注明出处。"
      ],
      "execution_count": null,
      "outputs": []
    },
    {
      "cell_type": "markdown",
      "metadata": {
        "id": "teFbdHARhiCj"
      },
      "source": [
        "#平面可以用\r\n",
        "\r\n",
        "参考链接： https://blog.csdn.net/Yong_Qi2015/article/details/105236719"
      ]
    },
    {
      "cell_type": "code",
      "metadata": {
        "colab": {
          "base_uri": "https://localhost:8080/",
          "height": 367
        },
        "id": "wuu1qHhagNZU",
        "outputId": "f6de02d6-ffe5-4369-84a6-f12d8da531c7"
      },
      "source": [
        "\r\n",
        "import os\r\n",
        "import cv2\r\n",
        "import imutils\r\n",
        "import numpy as np\r\n",
        " \r\n",
        "img_dir = '/content/drive/MyDrive/Photos-Combine/raw'\r\n",
        "names = os.listdir(img_dir)\r\n",
        " \r\n",
        "images = []\r\n",
        "for name in names:\r\n",
        "    img_path = os.path.join(img_dir, name)\r\n",
        "    image = cv2.imread(img_path)\r\n",
        "    images.append(image)\r\n",
        " \r\n",
        "stitcher = cv2.createStitcher() if imutils.is_cv3() else cv2.Stitcher_create()\r\n",
        "status, stitched = stitcher.stitch(images)\r\n",
        " \r\n",
        "# 四周填充黑色像素，再得到阈值图\r\n",
        "stitched = cv2.copyMakeBorder(stitched, 10, 10, 10, 10, cv2.BORDER_CONSTANT, (0, 0, 0))\r\n",
        "gray = cv2.cvtColor(stitched, cv2.COLOR_BGR2GRAY)\r\n",
        "ret, thresh = cv2.threshold(gray, 0, 255, cv2.THRESH_BINARY)\r\n",
        " \r\n",
        "cnts, hierarchy = cv2.findContours(thresh.copy(), cv2.RETR_EXTERNAL, cv2.CHAIN_APPROX_SIMPLE)\r\n",
        "cnt = max(cnts, key=cv2.contourArea)\r\n",
        " \r\n",
        "mask = np.zeros(thresh.shape, dtype=\"uint8\")\r\n",
        "x, y, w, h = cv2.boundingRect(cnt)\r\n",
        "cv2.rectangle(mask, (x, y), (x + w, y + h), 255, -1)\r\n",
        " \r\n",
        "minRect = mask.copy()\r\n",
        "sub = mask.copy()\r\n",
        " \r\n",
        "# 开始while循环，直到sub中不再有前景像素\r\n",
        "while cv2.countNonZero(sub) > 0:\r\n",
        "    minRect = cv2.erode(minRect, None)\r\n",
        "    sub = cv2.subtract(minRect, thresh)\r\n",
        " \r\n",
        "cnts, hierarchy = cv2.findContours(minRect.copy(), cv2.RETR_EXTERNAL, cv2.CHAIN_APPROX_SIMPLE)\r\n",
        "cnt = max(cnts, key=cv2.contourArea)\r\n",
        "x, y, w, h = cv2.boundingRect(cnt)\r\n",
        " \r\n",
        "# 使用边界框坐标提取最终的全景图\r\n",
        "stitched = stitched[y:y + h, x:x + w]\r\n",
        " \r\n",
        "cv2.imwrite('final.jpg', stitched)\r\n"
      ],
      "execution_count": null,
      "outputs": [
        {
          "output_type": "error",
          "ename": "DisabledFunctionError",
          "evalue": "ignored",
          "traceback": [
            "\u001b[0;31m---------------------------------------------------------------------------\u001b[0m",
            "\u001b[0;31mDisabledFunctionError\u001b[0m                     Traceback (most recent call last)",
            "\u001b[0;32m<ipython-input-6-e011329e91af>\u001b[0m in \u001b[0;36m<module>\u001b[0;34m()\u001b[0m\n\u001b[1;32m     48\u001b[0m \u001b[0;34m\u001b[0m\u001b[0m\n\u001b[1;32m     49\u001b[0m \u001b[0;34m\u001b[0m\u001b[0m\n\u001b[0;32m---> 50\u001b[0;31m \u001b[0mcv2\u001b[0m\u001b[0;34m.\u001b[0m\u001b[0mimshow\u001b[0m\u001b[0;34m(\u001b[0m\u001b[0;34m)\u001b[0m\u001b[0;34m\u001b[0m\u001b[0;34m\u001b[0m\u001b[0m\n\u001b[0m",
            "\u001b[0;32m/usr/local/lib/python3.6/dist-packages/google/colab/_import_hooks/_cv2.py\u001b[0m in \u001b[0;36mwrapped\u001b[0;34m(*args, **kwargs)\u001b[0m\n\u001b[1;32m     50\u001b[0m   \u001b[0;32mdef\u001b[0m \u001b[0mwrapped\u001b[0m\u001b[0;34m(\u001b[0m\u001b[0;34m*\u001b[0m\u001b[0margs\u001b[0m\u001b[0;34m,\u001b[0m \u001b[0;34m**\u001b[0m\u001b[0mkwargs\u001b[0m\u001b[0;34m)\u001b[0m\u001b[0;34m:\u001b[0m\u001b[0;34m\u001b[0m\u001b[0;34m\u001b[0m\u001b[0m\n\u001b[1;32m     51\u001b[0m     \u001b[0;32mif\u001b[0m \u001b[0;32mnot\u001b[0m \u001b[0mos\u001b[0m\u001b[0;34m.\u001b[0m\u001b[0menviron\u001b[0m\u001b[0;34m.\u001b[0m\u001b[0mget\u001b[0m\u001b[0;34m(\u001b[0m\u001b[0menv_var\u001b[0m\u001b[0;34m,\u001b[0m \u001b[0;32mFalse\u001b[0m\u001b[0;34m)\u001b[0m\u001b[0;34m:\u001b[0m\u001b[0;34m\u001b[0m\u001b[0;34m\u001b[0m\u001b[0m\n\u001b[0;32m---> 52\u001b[0;31m       \u001b[0;32mraise\u001b[0m \u001b[0mDisabledFunctionError\u001b[0m\u001b[0;34m(\u001b[0m\u001b[0mmessage\u001b[0m\u001b[0;34m,\u001b[0m \u001b[0mname\u001b[0m \u001b[0;32mor\u001b[0m \u001b[0mfunc\u001b[0m\u001b[0;34m.\u001b[0m\u001b[0m__name__\u001b[0m\u001b[0;34m)\u001b[0m\u001b[0;34m\u001b[0m\u001b[0;34m\u001b[0m\u001b[0m\n\u001b[0m\u001b[1;32m     53\u001b[0m     \u001b[0;32mreturn\u001b[0m \u001b[0mfunc\u001b[0m\u001b[0;34m(\u001b[0m\u001b[0;34m*\u001b[0m\u001b[0margs\u001b[0m\u001b[0;34m,\u001b[0m \u001b[0;34m**\u001b[0m\u001b[0mkwargs\u001b[0m\u001b[0;34m)\u001b[0m\u001b[0;34m\u001b[0m\u001b[0;34m\u001b[0m\u001b[0m\n\u001b[1;32m     54\u001b[0m \u001b[0;34m\u001b[0m\u001b[0m\n",
            "\u001b[0;31mDisabledFunctionError\u001b[0m: cv2.imshow() is disabled in Colab, because it causes Jupyter sessions\nto crash; see https://github.com/jupyter/notebook/issues/3935.\nAs a substitution, consider using\n  from google.colab.patches import cv2_imshow\n"
          ]
        }
      ]
    },
    {
      "cell_type": "code",
      "metadata": {
        "id": "YiYcWsqLgKs7"
      },
      "source": [
        "#这个不行"
      ],
      "execution_count": null,
      "outputs": []
    },
    {
      "cell_type": "code",
      "metadata": {
        "id": "fHRkc-TwnOQ_",
        "colab": {
          "base_uri": "https://localhost:8080/",
          "height": 231
        },
        "outputId": "369ab3ea-4379-426d-dfbf-d4a3f03a27dc"
      },
      "source": [
        "import cv2\r\n",
        "import os\r\n",
        "import re\r\n",
        "\r\n",
        "def tryint(s):\r\n",
        "    try:\r\n",
        "        return int(s)\r\n",
        "    except:\r\n",
        "        return s\r\n",
        "\r\n",
        "def alphanum_key(s):\r\n",
        "    return [tryint(c) for c in re.split('([0-9]+)', s)]\r\n",
        "\r\n",
        "def sort_nicely(l):\r\n",
        "    l.sort(key=alphanum_key)\r\n",
        "    return l\r\n",
        "\r\n",
        "\r\n",
        "directory = \"Image/Directory\"\r\n",
        "fileNameKeys = ['File','Names','Contain','These','Strings']\r\n",
        "\r\n",
        "\r\n",
        "dirList = sort_nicely([file for file in os.listdir(directory) if all(substring in file for substring in fileNameKeys)])\r\n",
        "images = [cv2.imread(directory + '/' + imageFile) for imageFile in dirList if True]\r\n",
        "print(dirList)\r\n",
        "\r\n",
        "\r\n",
        "#################################\r\n",
        "stitcher = cv2.Stitcher.create()\r\n",
        "#################################\r\n",
        "\r\n",
        "\r\n",
        "stitchOut = stitcher.stitch(images)\r\n",
        "print(\"Stitcher exit status = \" + str(stitchOut[0]))\r\n",
        "print(\"Hit any Key to continue and save image\")\r\n",
        "cv2.imshow('Stitched Image', stitchOut[1])\r\n",
        "cv2.waitKey(0)\r\n",
        "cv2.imwrite(directory + \"/\" + \"STITCH.png\", stitchOut[1])"
      ],
      "execution_count": null,
      "outputs": [
        {
          "output_type": "error",
          "ename": "FileNotFoundError",
          "evalue": "ignored",
          "traceback": [
            "\u001b[0;31m---------------------------------------------------------------------------\u001b[0m",
            "\u001b[0;31mFileNotFoundError\u001b[0m                         Traceback (most recent call last)",
            "\u001b[0;32m<ipython-input-9-6c4de625b491>\u001b[0m in \u001b[0;36m<module>\u001b[0;34m()\u001b[0m\n\u001b[1;32m     21\u001b[0m \u001b[0;34m\u001b[0m\u001b[0m\n\u001b[1;32m     22\u001b[0m \u001b[0;34m\u001b[0m\u001b[0m\n\u001b[0;32m---> 23\u001b[0;31m \u001b[0mdirList\u001b[0m \u001b[0;34m=\u001b[0m \u001b[0msort_nicely\u001b[0m\u001b[0;34m(\u001b[0m\u001b[0;34m[\u001b[0m\u001b[0mfile\u001b[0m \u001b[0;32mfor\u001b[0m \u001b[0mfile\u001b[0m \u001b[0;32min\u001b[0m \u001b[0mos\u001b[0m\u001b[0;34m.\u001b[0m\u001b[0mlistdir\u001b[0m\u001b[0;34m(\u001b[0m\u001b[0mdirectory\u001b[0m\u001b[0;34m)\u001b[0m \u001b[0;32mif\u001b[0m \u001b[0mall\u001b[0m\u001b[0;34m(\u001b[0m\u001b[0msubstring\u001b[0m \u001b[0;32min\u001b[0m \u001b[0mfile\u001b[0m \u001b[0;32mfor\u001b[0m \u001b[0msubstring\u001b[0m \u001b[0;32min\u001b[0m \u001b[0mfileNameKeys\u001b[0m\u001b[0;34m)\u001b[0m\u001b[0;34m]\u001b[0m\u001b[0;34m)\u001b[0m\u001b[0;34m\u001b[0m\u001b[0;34m\u001b[0m\u001b[0m\n\u001b[0m\u001b[1;32m     24\u001b[0m \u001b[0mimages\u001b[0m \u001b[0;34m=\u001b[0m \u001b[0;34m[\u001b[0m\u001b[0mcv2\u001b[0m\u001b[0;34m.\u001b[0m\u001b[0mimread\u001b[0m\u001b[0;34m(\u001b[0m\u001b[0mdirectory\u001b[0m \u001b[0;34m+\u001b[0m \u001b[0;34m'/'\u001b[0m \u001b[0;34m+\u001b[0m \u001b[0mimageFile\u001b[0m\u001b[0;34m)\u001b[0m \u001b[0;32mfor\u001b[0m \u001b[0mimageFile\u001b[0m \u001b[0;32min\u001b[0m \u001b[0mdirList\u001b[0m \u001b[0;32mif\u001b[0m \u001b[0;32mTrue\u001b[0m\u001b[0;34m]\u001b[0m\u001b[0;34m\u001b[0m\u001b[0;34m\u001b[0m\u001b[0m\n\u001b[1;32m     25\u001b[0m \u001b[0mprint\u001b[0m\u001b[0;34m(\u001b[0m\u001b[0mdirList\u001b[0m\u001b[0;34m)\u001b[0m\u001b[0;34m\u001b[0m\u001b[0;34m\u001b[0m\u001b[0m\n",
            "\u001b[0;31mFileNotFoundError\u001b[0m: [Errno 2] No such file or directory: 'Image/Directory'"
          ]
        }
      ]
    },
    {
      "cell_type": "code",
      "metadata": {
        "colab": {
          "base_uri": "https://localhost:8080/"
        },
        "id": "i8RMpvDQmhgb",
        "outputId": "13c3a765-9f59-4043-9251-ced13951b5e1"
      },
      "source": [
        "\r\n",
        "from __future__ import print_function \r\n",
        "import cv2 as cv \r\n",
        "import numpy as np \r\n",
        "import argparse \r\n",
        "import sys \r\n",
        " \r\n",
        "print('done')"
      ],
      "execution_count": null,
      "outputs": [
        {
          "output_type": "stream",
          "text": [
            "done\n"
          ],
          "name": "stdout"
        }
      ]
    },
    {
      "cell_type": "code",
      "metadata": {
        "colab": {
          "base_uri": "https://localhost:8080/"
        },
        "id": "9OHYJ3uymz7T",
        "outputId": "ecf6ce43-79d5-4763-ede3-87f301a4c18e"
      },
      "source": [
        "output = 'result3.jpg'\r\n",
        "txtpath = 'imglists.txt'     #txtlists/files3.txt'   #文档中保存图像的存储路径\r\n",
        "fp = open(txtpath, 'r')\r\n",
        "filenames = [each.rstrip('\\r\\n') for each in  fp.readlines()]\r\n",
        "print(filenames)\r\n",
        " \r\n",
        "print('done')"
      ],
      "execution_count": null,
      "outputs": [
        {
          "output_type": "stream",
          "text": [
            "['1.jpeg', '2.jpeg']\n",
            "done\n"
          ],
          "name": "stdout"
        }
      ]
    },
    {
      "cell_type": "code",
      "metadata": {
        "colab": {
          "base_uri": "https://localhost:8080/",
          "height": 231
        },
        "id": "yjPceJN5m3jT",
        "outputId": "c796b2b0-dd30-4cca-95db-0642d0ebe744"
      },
      "source": [
        "imgs = [] \r\n",
        "for img_name in filenames: \r\n",
        "    img = cv.imread(img_name) \r\n",
        "    if img is None: \r\n",
        "        print(\"can't read image \" + img_name) \r\n",
        "        sys.exit(-1) \r\n",
        "    imgs.append(img) \r\n",
        " \r\n",
        "stitcher = cv.createStitcher(cv.Stitcher_PANORAMA)  #cv.Stitcher_SCANS\r\n",
        "status, pano = stitcher.stitch(imgs) \r\n",
        "if status != cv.Stitcher_OK: \r\n",
        "    print(\"Can't stitch images, error code = %d\" % status) \r\n",
        "    sys.exit(-1) \r\n",
        "cv.imwrite(output, pano); \r\n",
        "print(\"stitching completed successfully. %s saved!\" % output)\r\n",
        "\r\n",
        "print('done')"
      ],
      "execution_count": null,
      "outputs": [
        {
          "output_type": "error",
          "ename": "AttributeError",
          "evalue": "ignored",
          "traceback": [
            "\u001b[0;31m---------------------------------------------------------------------------\u001b[0m",
            "\u001b[0;31mAttributeError\u001b[0m                            Traceback (most recent call last)",
            "\u001b[0;32m<ipython-input-8-815fb625fc30>\u001b[0m in \u001b[0;36m<module>\u001b[0;34m()\u001b[0m\n\u001b[1;32m      7\u001b[0m     \u001b[0mimgs\u001b[0m\u001b[0;34m.\u001b[0m\u001b[0mappend\u001b[0m\u001b[0;34m(\u001b[0m\u001b[0mimg\u001b[0m\u001b[0;34m)\u001b[0m\u001b[0;34m\u001b[0m\u001b[0;34m\u001b[0m\u001b[0m\n\u001b[1;32m      8\u001b[0m \u001b[0;34m\u001b[0m\u001b[0m\n\u001b[0;32m----> 9\u001b[0;31m \u001b[0mstitcher\u001b[0m \u001b[0;34m=\u001b[0m \u001b[0mcv\u001b[0m\u001b[0;34m.\u001b[0m\u001b[0mcreateStitcher\u001b[0m\u001b[0;34m(\u001b[0m\u001b[0mcv\u001b[0m\u001b[0;34m.\u001b[0m\u001b[0mStitcher_PANORAMA\u001b[0m\u001b[0;34m)\u001b[0m  \u001b[0;31m#cv.Stitcher_SCANS\u001b[0m\u001b[0;34m\u001b[0m\u001b[0;34m\u001b[0m\u001b[0m\n\u001b[0m\u001b[1;32m     10\u001b[0m \u001b[0mstatus\u001b[0m\u001b[0;34m,\u001b[0m \u001b[0mpano\u001b[0m \u001b[0;34m=\u001b[0m \u001b[0mstitcher\u001b[0m\u001b[0;34m.\u001b[0m\u001b[0mstitch\u001b[0m\u001b[0;34m(\u001b[0m\u001b[0mimgs\u001b[0m\u001b[0;34m)\u001b[0m\u001b[0;34m\u001b[0m\u001b[0;34m\u001b[0m\u001b[0m\n\u001b[1;32m     11\u001b[0m \u001b[0;32mif\u001b[0m \u001b[0mstatus\u001b[0m \u001b[0;34m!=\u001b[0m \u001b[0mcv\u001b[0m\u001b[0;34m.\u001b[0m\u001b[0mStitcher_OK\u001b[0m\u001b[0;34m:\u001b[0m\u001b[0;34m\u001b[0m\u001b[0;34m\u001b[0m\u001b[0m\n",
            "\u001b[0;31mAttributeError\u001b[0m: module 'cv2.cv2' has no attribute 'createStitcher'"
          ]
        }
      ]
    },
    {
      "cell_type": "markdown",
      "metadata": {
        "id": "ZX699Aj0mbUV"
      },
      "source": [
        "###版权问题后续代码未使用"
      ]
    },
    {
      "cell_type": "code",
      "metadata": {
        "colab": {
          "base_uri": "https://localhost:8080/"
        },
        "id": "XlboDz96jpJH",
        "outputId": "77625344-2848-4532-d8a7-0b5cc86d0e32"
      },
      "source": [
        "import numpy as np\r\n",
        "import cv2 as cv\r\n",
        "from matplotlib import pyplot as plt\r\n",
        " \r\n",
        "print(\"done\")\r\n"
      ],
      "execution_count": null,
      "outputs": [
        {
          "output_type": "stream",
          "text": [
            "done\n"
          ],
          "name": "stdout"
        }
      ]
    },
    {
      "cell_type": "markdown",
      "metadata": {
        "id": "FfsjTRpwkppH"
      },
      "source": [
        "##输入"
      ]
    },
    {
      "cell_type": "code",
      "metadata": {
        "colab": {
          "base_uri": "https://localhost:8080/"
        },
        "id": "6LMtnk5YkoSM",
        "outputId": "81de5f96-cf0a-48c7-a1d6-4ce1707a219e"
      },
      "source": [
        "img1 = cv.imread('1.jpeg')\r\n",
        "img2 = cv.imread('2.jpeg')\r\n",
        "\r\n",
        "print(\"done\")"
      ],
      "execution_count": null,
      "outputs": [
        {
          "output_type": "stream",
          "text": [
            "done\n"
          ],
          "name": "stdout"
        }
      ]
    },
    {
      "cell_type": "markdown",
      "metadata": {
        "id": "KLyvUuJ0ktZ8"
      },
      "source": [
        "https://blog.csdn.net/weixin_37592611/article/details/88921001"
      ]
    },
    {
      "cell_type": "code",
      "metadata": {
        "colab": {
          "base_uri": "https://localhost:8080/",
          "height": 248
        },
        "id": "rNASXlzzkcS4",
        "outputId": "de4250fe-5719-4e3d-bea4-08946a4d6dbc"
      },
      "source": [
        "\r\n",
        "\r\n",
        "\r\n",
        "top, bot, left, right = 100, 100, 0, 500\r\n",
        "srcImg = cv.copyMakeBorder(img1, top, bot, left, right, cv.BORDER_CONSTANT, value=(0, 0, 0))\r\n",
        "testImg = cv.copyMakeBorder(img2, top, bot, left, right, cv.BORDER_CONSTANT, value=(0, 0, 0))\r\n",
        "img1gray = cv.cvtColor(srcImg, cv.COLOR_BGR2GRAY)\r\n",
        "img2gray = cv.cvtColor(testImg, cv.COLOR_BGR2GRAY)\r\n",
        "sift = cv.xfeatures2d_SIFT().create()\r\n",
        "# find the keypoints and descriptors with SIFT\r\n",
        "kp1, des1 = sift.detectAndCompute(img1gray, None)\r\n",
        "kp2, des2 = sift.detectAndCompute(img2gray, None)\r\n",
        "# FLANN parameters\r\n",
        "FLANN_INDEX_KDTREE = 1\r\n",
        "index_params = dict(algorithm=FLANN_INDEX_KDTREE, trees=5)\r\n",
        "search_params = dict(checks=50)\r\n",
        "flann = cv.FlannBasedMatcher(index_params, search_params)\r\n",
        "matches = flann.knnMatch(des1, des2, k=2)\r\n",
        "\r\n",
        "# Need to draw only good matches, so create a mask\r\n",
        "matchesMask = [[0, 0] for i in range(len(matches))]\r\n",
        "\r\n",
        "good = []\r\n",
        "pts1 = []\r\n",
        "pts2 = []\r\n",
        "# ratio test as per Lowe's paper\r\n",
        "for i, (m, n) in enumerate(matches):\r\n",
        "    if m.distance < 0.7*n.distance:\r\n",
        "        good.append(m)\r\n",
        "        pts2.append(kp2[m.trainIdx].pt)\r\n",
        "        pts1.append(kp1[m.queryIdx].pt)\r\n",
        "        matchesMask[i] = [1, 0]\r\n",
        "\r\n",
        "draw_params = dict(matchColor=(0, 255, 0),\r\n",
        "                    singlePointColor=(255, 0, 0),\r\n",
        "                    matchesMask=matchesMask,\r\n",
        "                    flags=0)\r\n",
        "img3 = cv.drawMatchesKnn(img1gray, kp1, img2gray, kp2, matches, None, **draw_params)\r\n",
        "plt.imshow(img3, ), plt.show()\r\n",
        "\r\n",
        "rows, cols = srcImg.shape[:2]\r\n",
        "MIN_MATCH_COUNT = 10\r\n",
        "if len(good) > MIN_MATCH_COUNT:\r\n",
        "    src_pts = np.float32([kp1[m.queryIdx].pt for m in good]).reshape(-1, 1, 2)\r\n",
        "    dst_pts = np.float32([kp2[m.trainIdx].pt for m in good]).reshape(-1, 1, 2)\r\n",
        "    M, mask = cv.findHomography(src_pts, dst_pts, cv.RANSAC, 5.0)\r\n",
        "    warpImg = cv.warpPerspective(testImg, np.array(M), (testImg.shape[1], testImg.shape[0]), flags=cv.WARP_INVERSE_MAP)\r\n",
        "\r\n",
        "    for col in range(0, cols):\r\n",
        "        if srcImg[:, col].any() and warpImg[:, col].any():\r\n",
        "            left = col\r\n",
        "            break\r\n",
        "    for col in range(cols-1, 0, -1):\r\n",
        "        if srcImg[:, col].any() and warpImg[:, col].any():\r\n",
        "            right = col\r\n",
        "            break\r\n",
        "\r\n",
        "    res = np.zeros([rows, cols, 3], np.uint8)\r\n",
        "    for row in range(0, rows):\r\n",
        "        for col in range(0, cols):\r\n",
        "            if not srcImg[row, col].any():\r\n",
        "                res[row, col] = warpImg[row, col]\r\n",
        "            elif not warpImg[row, col].any():\r\n",
        "                res[row, col] = srcImg[row, col]\r\n",
        "            else:\r\n",
        "                srcImgLen = float(abs(col - left))\r\n",
        "                testImgLen = float(abs(col - right))\r\n",
        "                alpha = srcImgLen / (srcImgLen + testImgLen)\r\n",
        "                res[row, col] = np.clip(srcImg[row, col] * (1-alpha) + warpImg[row, col] * alpha, 0, 255)\r\n",
        "\r\n",
        "    # opencv is bgr, matplotlib is rgb\r\n",
        "    res = cv.cvtColor(res, cv.COLOR_BGR2RGB)\r\n",
        "    # show the result\r\n",
        "    plt.figure()\r\n",
        "    plt.imshow(res)\r\n",
        "    plt.show()\r\n",
        "else:\r\n",
        "    print(\"Not enough matches are found - {}/{}\".format(len(good), MIN_MATCH_COUNT))\r\n",
        "    matchesMask = None\r\n",
        "\r\n",
        "print(\"done\")"
      ],
      "execution_count": null,
      "outputs": [
        {
          "output_type": "error",
          "ename": "error",
          "evalue": "ignored",
          "traceback": [
            "\u001b[0;31m---------------------------------------------------------------------------\u001b[0m",
            "\u001b[0;31merror\u001b[0m                                     Traceback (most recent call last)",
            "\u001b[0;32m<ipython-input-4-7938d47c7870>\u001b[0m in \u001b[0;36m<module>\u001b[0;34m()\u001b[0m\n\u001b[1;32m      7\u001b[0m \u001b[0mimg1gray\u001b[0m \u001b[0;34m=\u001b[0m \u001b[0mcv\u001b[0m\u001b[0;34m.\u001b[0m\u001b[0mcvtColor\u001b[0m\u001b[0;34m(\u001b[0m\u001b[0msrcImg\u001b[0m\u001b[0;34m,\u001b[0m \u001b[0mcv\u001b[0m\u001b[0;34m.\u001b[0m\u001b[0mCOLOR_BGR2GRAY\u001b[0m\u001b[0;34m)\u001b[0m\u001b[0;34m\u001b[0m\u001b[0;34m\u001b[0m\u001b[0m\n\u001b[1;32m      8\u001b[0m \u001b[0mimg2gray\u001b[0m \u001b[0;34m=\u001b[0m \u001b[0mcv\u001b[0m\u001b[0;34m.\u001b[0m\u001b[0mcvtColor\u001b[0m\u001b[0;34m(\u001b[0m\u001b[0mtestImg\u001b[0m\u001b[0;34m,\u001b[0m \u001b[0mcv\u001b[0m\u001b[0;34m.\u001b[0m\u001b[0mCOLOR_BGR2GRAY\u001b[0m\u001b[0;34m)\u001b[0m\u001b[0;34m\u001b[0m\u001b[0;34m\u001b[0m\u001b[0m\n\u001b[0;32m----> 9\u001b[0;31m \u001b[0msift\u001b[0m \u001b[0;34m=\u001b[0m \u001b[0mcv\u001b[0m\u001b[0;34m.\u001b[0m\u001b[0mxfeatures2d_SIFT\u001b[0m\u001b[0;34m(\u001b[0m\u001b[0;34m)\u001b[0m\u001b[0;34m.\u001b[0m\u001b[0mcreate\u001b[0m\u001b[0;34m(\u001b[0m\u001b[0;34m)\u001b[0m\u001b[0;34m\u001b[0m\u001b[0;34m\u001b[0m\u001b[0m\n\u001b[0m\u001b[1;32m     10\u001b[0m \u001b[0;31m# find the keypoints and descriptors with SIFT\u001b[0m\u001b[0;34m\u001b[0m\u001b[0;34m\u001b[0m\u001b[0;34m\u001b[0m\u001b[0m\n\u001b[1;32m     11\u001b[0m \u001b[0mkp1\u001b[0m\u001b[0;34m,\u001b[0m \u001b[0mdes1\u001b[0m \u001b[0;34m=\u001b[0m \u001b[0msift\u001b[0m\u001b[0;34m.\u001b[0m\u001b[0mdetectAndCompute\u001b[0m\u001b[0;34m(\u001b[0m\u001b[0mimg1gray\u001b[0m\u001b[0;34m,\u001b[0m \u001b[0;32mNone\u001b[0m\u001b[0;34m)\u001b[0m\u001b[0;34m\u001b[0m\u001b[0;34m\u001b[0m\u001b[0m\n",
            "\u001b[0;31merror\u001b[0m: OpenCV(4.1.2) /io/opencv_contrib/modules/xfeatures2d/src/sift.cpp:1207: error: (-213:The function/feature is not implemented) This algorithm is patented and is excluded in this configuration; Set OPENCV_ENABLE_NONFREE CMake option and rebuild the library in function 'create'\n"
          ]
        }
      ]
    },
    {
      "cell_type": "markdown",
      "metadata": {
        "id": "5JTCAOcolB2u"
      },
      "source": [
        ""
      ]
    },
    {
      "cell_type": "code",
      "metadata": {
        "colab": {
          "base_uri": "https://localhost:8080/",
          "height": 299
        },
        "id": "BbqaPb60EAaJ",
        "outputId": "0287c99e-cac1-409b-9425-0eb63c8dfd8f"
      },
      "source": [
        "import PCV"
      ],
      "execution_count": null,
      "outputs": [
        {
          "output_type": "error",
          "ename": "ModuleNotFoundError",
          "evalue": "ignored",
          "traceback": [
            "\u001b[0;31m---------------------------------------------------------------------------\u001b[0m",
            "\u001b[0;31mModuleNotFoundError\u001b[0m                       Traceback (most recent call last)",
            "\u001b[0;32m<ipython-input-1-6824af470ebf>\u001b[0m in \u001b[0;36m<module>\u001b[0;34m()\u001b[0m\n\u001b[0;32m----> 1\u001b[0;31m \u001b[0;32mimport\u001b[0m \u001b[0mPCV\u001b[0m\u001b[0;34m\u001b[0m\u001b[0;34m\u001b[0m\u001b[0m\n\u001b[0m",
            "\u001b[0;31mModuleNotFoundError\u001b[0m: No module named 'PCV'",
            "",
            "\u001b[0;31m---------------------------------------------------------------------------\u001b[0;32m\nNOTE: If your import is failing due to a missing package, you can\nmanually install dependencies using either !pip or !apt.\n\nTo view examples of installing some common dependencies, click the\n\"Open Examples\" button below.\n\u001b[0;31m---------------------------------------------------------------------------\u001b[0m\n"
          ]
        }
      ]
    }
  ]
}